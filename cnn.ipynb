{
 "cells": [
  {
   "cell_type": "code",
   "execution_count": 1,
   "metadata": {},
   "outputs": [],
   "source": [
    "import h5py as h\n",
    "import numpy as np"
   ]
  },
  {
   "cell_type": "markdown",
   "metadata": {},
   "source": [
    "Cargamos las imágenes generadas por el código `delphes_gans`"
   ]
  },
  {
   "cell_type": "code",
   "execution_count": 2,
   "metadata": {},
   "outputs": [],
   "source": [
    "f = h.File(\"new.h5\", 'r')\n",
    "images = np.vstack([f[\"qcd/images\"][:], f[\"wprime/images\"][:]])\n",
    "labels = np.hstack([f[\"qcd/labels\"][:], f[\"wprime/labels\"][:]])"
   ]
  },
  {
   "cell_type": "markdown",
   "metadata": {},
   "source": [
    "Acomodamos la información y separamos en datos de entrenamiento y de validación."
   ]
  },
  {
   "cell_type": "code",
   "execution_count": 3,
   "metadata": {},
   "outputs": [
    {
     "ename": "NameError",
     "evalue": "name 'train_labels' is not defined",
     "output_type": "error",
     "traceback": [
      "\u001b[1;31m---------------------------------------------------------------------------\u001b[0m",
      "\u001b[1;31mNameError\u001b[0m                                 Traceback (most recent call last)",
      "\u001b[1;32m<ipython-input-3-1842d7991ce6>\u001b[0m in \u001b[0;36m<module>\u001b[1;34m\u001b[0m\n\u001b[0;32m      5\u001b[0m \u001b[0mlabels\u001b[0m \u001b[1;33m=\u001b[0m \u001b[0mto_categorical\u001b[0m\u001b[1;33m(\u001b[0m\u001b[0mlabels\u001b[0m\u001b[1;33m)\u001b[0m\u001b[1;33m\u001b[0m\u001b[1;33m\u001b[0m\u001b[0m\n\u001b[0;32m      6\u001b[0m \u001b[0mx_train\u001b[0m\u001b[1;33m,\u001b[0m \u001b[0mx_test\u001b[0m\u001b[1;33m,\u001b[0m \u001b[0my_train\u001b[0m\u001b[1;33m,\u001b[0m \u001b[0my_test\u001b[0m \u001b[1;33m=\u001b[0m \u001b[0mtrain_test_split\u001b[0m\u001b[1;33m(\u001b[0m\u001b[0mimages\u001b[0m\u001b[1;33m,\u001b[0m \u001b[0mlabels\u001b[0m\u001b[1;33m,\u001b[0m \u001b[0mtest_size\u001b[0m\u001b[1;33m=\u001b[0m\u001b[1;36m0.2\u001b[0m\u001b[1;33m,\u001b[0m \u001b[0mshuffle\u001b[0m\u001b[1;33m=\u001b[0m\u001b[1;32mTrue\u001b[0m\u001b[1;33m)\u001b[0m\u001b[1;33m\u001b[0m\u001b[1;33m\u001b[0m\u001b[0m\n\u001b[1;32m----> 7\u001b[1;33m \u001b[0mprint\u001b[0m\u001b[1;33m(\u001b[0m\u001b[1;34mf\"Forma del entrenamiento: \\t instancias: {x_train} \\t etiquetas: {train_labels.shape}\"\u001b[0m\u001b[1;33m)\u001b[0m\u001b[1;33m\u001b[0m\u001b[1;33m\u001b[0m\u001b[0m\n\u001b[0m\u001b[0;32m      8\u001b[0m \u001b[0mprint\u001b[0m\u001b[1;33m(\u001b[0m\u001b[1;34mf\"Forma del prueba: \\t\\t instancias: {x_test} \\t etiquetas: {test_labels.shape}\"\u001b[0m\u001b[1;33m)\u001b[0m\u001b[1;33m\u001b[0m\u001b[1;33m\u001b[0m\u001b[0m\n",
      "\u001b[1;31mNameError\u001b[0m: name 'train_labels' is not defined"
     ]
    }
   ],
   "source": [
    "from sklearn.model_selection import train_test_split\n",
    "from tensorflow.keras.utils import to_categorical\n",
    "\n",
    "images = np.reshape(images, [-1, 25, 25, 1])\n",
    "labels = to_categorical(labels)\n",
    "x_train, x_test, y_train, y_test = train_test_split(images, labels, test_size=0.2, shuffle=True)\n",
    "print(f\"Forma del entrenamiento: \\t instancias: {x_train} \\t etiquetas: {train_labels.shape}\")\n",
    "print(f\"Forma del prueba: \\t\\t instancias: {x_test} \\t etiquetas: {test_labels.shape}\")"
   ]
  },
  {
   "cell_type": "markdown",
   "metadata": {},
   "source": [
    "Las siguientes funciones ayudan a crear la red más flexible y rápida. Cada una de ellas define una nueva **capa** de la red. Entendemos como capa a cada operación del flujo de datos en la red."
   ]
  },
  {
   "cell_type": "code",
   "execution_count": null,
   "metadata": {},
   "outputs": [],
   "source": [
    "def conv_layer(input, num_input_channels, filter_size, num_filters, name):\n",
    "    with tf.variable_scope(name) as scope:\n",
    "        shape   = [filter_size, filter_size, num_input_channels, num_filters]\n",
    "        weights = tf.Variable(tf.truncated_normal(shape, stddev=0.05))\n",
    "        biases  = tf.Variable(tf.constant(0.05, shape=[num_filters]))\n",
    "        layer   = tf.nn.conv2d(input=input, filter=weights, strides=[1, 1, 1, 1], padding='SAME')\n",
    "        layer += biases\n",
    "        \n",
    "        return layer, weights\n",
    "    \n",
    "def pool_layer(input, name):\n",
    "    with tf.variable_scope(name) as scope:\n",
    "        layer = tf.nn.max_pool(value=input, ksize=[1, 2, 2, 1], strides=[1, 2, 2, 1], padding='SAME')\n",
    "        \n",
    "        return layer\n",
    "\n",
    "def relu_layer(input, name):    \n",
    "    with tf.variable_scope(name) as scope:\n",
    "        layer = tf.nn.relu(input)\n",
    "        \n",
    "        return layer\n",
    "    \n",
    "def fully_connected_layer(input, num_inputs, num_outputs, name):\n",
    "    with tf.variable_scope(name) as scope:\n",
    "        weights = tf.Variable(tf.truncated_normal([num_inputs, num_outputs], stddev=0.05))\n",
    "        biases  = tf.Variable(tf.constant(0.05, shape=[num_outputs]))\n",
    "        layer   = tf.matmul(input, weights) + biases\n",
    "        \n",
    "        return layer"
   ]
  },
  {
   "cell_type": "markdown",
   "metadata": {},
   "source": [
    "Definimos la red"
   ]
  },
  {
   "cell_type": "code",
   "execution_count": null,
   "metadata": {},
   "outputs": [],
   "source": [
    "import tensorflow as tf\n",
    "\n",
    "X = tf.placeholder(tf.float32, shape=[None, 25, 25, 1], name='X')\n",
    "Y = tf.placeholder(tf.float32, shape=[None, 2], name='Y')\n",
    "\n",
    "conv1, weights1 = conv_layer(X, num_input_channels=1, filter_size=5, num_filters=6, name=\"conv1\")\n",
    "pool1 = pool_layer(conv1, \"pool1\")\n",
    "relu1 = relu_layer(pool1, \"relu1\")\n",
    "\n",
    "conv2, weights2 = conv_layer(relu1, num_input_channels=6, filter_size=5, num_filters=16, name=\"conv2\")\n",
    "pool2 = pool_layer(conv2, \"pool2\")\n",
    "relu2 = relu_layer(pool2, \"relu2\")\n",
    "\n",
    "num_features = relu2.get_shape()[1:].num_elements()\n",
    "layer_flat = tf.reshape(relu2, [-1, num_features])\n",
    "\n",
    "layer_fc1 = fully_connected_layer(layer_flat, num_inputs=num_features, num_outputs=128, name=\"fc1\")\n",
    "layer_relu3 = relu_layer(layer_fc1, name=\"relu3\")\n",
    "layer_fc2 = fully_connected_layer(layer_relu3, num_inputs=128, num_outputs=2, name=\"fc2\")\n",
    "\n",
    "with tf.variable_scope(\"Softmax\"):\n",
    "    y_pred = tf.nn.softmax(layer_fc2)\n",
    "    y_pred_cls = tf.argmax(y_pred, axis=1)\n",
    "\n",
    "with tf.name_scope(\"cross_ent\"):\n",
    "    cross_entropy = tf.nn.softmax_cross_entropy_with_logits_v2(logits=layer_fc2, labels=Y)\n",
    "    cost = tf.reduce_mean(cross_entropy)\n",
    "\n",
    "with tf.name_scope(\"optimizer\"):\n",
    "    optimizer = tf.train.AdamOptimizer(learning_rate=1e-4).minimize(cost)\n",
    "\n",
    "with tf.name_scope(\"accuracy\"):\n",
    "    correct_prediction = tf.equal(y_pred_cls, tf.argmax(Y, axis=1))\n",
    "    accuracy = tf.reduce_mean(tf.cast(correct_prediction, tf.float32))\n",
    "\n",
    "writer = tf.summary.FileWriter(\"C:/Usuarios/Olga/CNN_JetImages\")\n",
    "writer1 = tf.summary.FileWriter(\"C:/Usuarios/Olga/CNN_JetImages\")\n",
    "\n",
    "tf.summary.scalar('loss', cost)\n",
    "tf.summary.scalar('accuracy', accuracy)\n",
    "merged_summary = tf.summary.merge_all()"
   ]
  },
  {
   "cell_type": "code",
   "execution_count": null,
   "metadata": {},
   "outputs": [],
   "source": [
    "num_epochs = 300\n",
    "\n",
    "ep = np.array([])\n",
    "acc = np.array([])\n",
    "loss = np.array([])\n",
    "\n",
    "with tf.Session() as sess:\n",
    "    sess.run(tf.global_variables_initializer())\n",
    "    writer.add_graph(sess.graph)\n",
    "\n",
    "    for epoch in range(num_epochs):\n",
    "        feed_dict_train = {X: x_train, Y: y_train}\n",
    "        sess.run(optimizer, feed_dict=feed_dict_train)\n",
    "        \n",
    "        if epoch%5==0:\n",
    "            train_summ, train_acc, train_loss = sess.run([merged_summary, accuracy, cost], feed_dict=feed_dict_train)\n",
    "            val_summ, val_acc, val_loss = sess.run([merged_summary, accuracy, cost], feed_dict={X: x_test, Y: y_test})\n",
    "            writer.add_summary(train_summ, epoch)\n",
    "            writer1.add_summary(val_summ, epoch)\n",
    "        \n",
    "            saver = tf.train.Saver(max_to_keep=15)\n",
    "            saver.save(sess,\"cnn/epoch{:04}.ckpt\".format((epoch)))\n",
    "        \n",
    "            ep = np.append(ep,epoch)\n",
    "            acc = np.append(acc,train_acc)\n",
    "            loss = np.append(loss,train_loss)\n",
    "\n",
    "            \n",
    "            print(f\"Epoch {str(epoch)} completed\")\n",
    "            print (\"\\t- Training Accuracy:\\t{}\".format(train_acc))\n",
    "            print (\"\\t- Validation Accuracy:\\t{}\".format(val_acc))\n",
    "            print (\"\\t- Validation Loss:\\t{}\".format(val_loss))"
   ]
  },
  {
   "cell_type": "code",
   "execution_count": null,
   "metadata": {},
   "outputs": [],
   "source": [
    "import matplotlib.pyplot as plt\n",
    "plt.plot(ep, acc)\n",
    "plt.xlabel('epochs')\n",
    "plt.ylabel('accuracy')"
   ]
  },
  {
   "cell_type": "code",
   "execution_count": null,
   "metadata": {},
   "outputs": [],
   "source": [
    "plt.rc('xtick',labelsize=17)\n",
    "plt.rc('ytick',labelsize=17)\n",
    "fig, ax = plt.subplots(figsize=(11,8))\n",
    "ax.plot(ep, acc,marker = \"o\",linewidth=3,markersize=10)\n",
    "ax.set_xlabel(\"Numero de Iteraciones\",fontsize=17)\n",
    "ax.set_ylabel(\"Precision\",fontsize=17)\n",
    "ax.set_title(\"Grafico de aprendizaje (Precision vs no. iteraciones) \",fontsize=16)\n",
    "plt.grid()\n",
    "plt.savefig('Accuracy.jpeg')"
   ]
  },
  {
   "cell_type": "code",
   "execution_count": null,
   "metadata": {},
   "outputs": [],
   "source": [
    "plt.rc('xtick',labelsize=17)\n",
    "plt.rc('ytick',labelsize=17)\n",
    "fig, ax = plt.subplots(figsize=(11,8))\n",
    "ax.plot(ep, loss,marker = \"o\",linewidth=3,markersize=10)\n",
    "ax.set_xlabel(\"Numero de Iteraciones\",fontsize=17)\n",
    "ax.set_ylabel(\"Error\",fontsize=17)\n",
    "ax.set_title(\"Grafico de aprendizaje (Error vs no. iteraciones) \",fontsize=16)\n",
    "plt.grid()\n",
    "plt.savefig('Loss.jpeg')"
   ]
  },
  {
   "cell_type": "code",
   "execution_count": null,
   "metadata": {},
   "outputs": [],
   "source": []
  }
 ],
 "metadata": {
  "kernelspec": {
   "display_name": "Python 3",
   "language": "python",
   "name": "python3"
  },
  "language_info": {
   "codemirror_mode": {
    "name": "ipython",
    "version": 3
   },
   "file_extension": ".py",
   "mimetype": "text/x-python",
   "name": "python",
   "nbconvert_exporter": "python",
   "pygments_lexer": "ipython3",
   "version": "3.7.5"
  }
 },
 "nbformat": 4,
 "nbformat_minor": 4
}
